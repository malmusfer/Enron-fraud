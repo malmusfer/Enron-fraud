{
  "nbformat": 4,
  "nbformat_minor": 0,
  "metadata": {
    "colab": {
      "name": "Enron fraud.ipynb",
      "provenance": [],
      "authorship_tag": "ABX9TyM07ZBRNBf0QNYbc/GrGXZe",
      "include_colab_link": true
    },
    "kernelspec": {
      "name": "python3",
      "display_name": "Python 3"
    }
  },
  "cells": [
    {
      "cell_type": "markdown",
      "metadata": {
        "id": "view-in-github",
        "colab_type": "text"
      },
      "source": [
        "<a href=\"https://colab.research.google.com/github/malmusfer/Enron-fraud/blob/master/Enron_fraud.ipynb\" target=\"_parent\"><img src=\"https://colab.research.google.com/assets/colab-badge.svg\" alt=\"Open In Colab\"/></a>"
      ]
    },
    {
      "cell_type": "markdown",
      "metadata": {
        "id": "JXKuX_9wTwQp",
        "colab_type": "text"
      },
      "source": [
        "![alt text](data:image/png;base64,iVBORw0KGgoAAAANSUhEUgAAAJcAAABPCAMAAADRLKcJAAAAeFBMVEX///8AsuTx+f0Ar+Pp9vz7/v8hteUxueYArOHPz9HK6fdUwOj2+/7k9PsAquGgoKTt7u/AwcN3f4WAzu2Z1vBkxerT7fj19faAgobc3t9CvOd5yuyN0u6s3fK54vTa8Pl1d3yrq61NVF4+SFNscHiLj5OWmJ20trlqCGW8AAAC0UlEQVRoge2Z23KjMAyGLQzYnBoI5AQNKdsmef83XMlAwil7tSi7M/5n6mKJjr+xZCdShbCysrJaX94fXH/wra2wjC4vXPuyDFlZnkp2EkDmSy63QpfecROR4k8pAVdX83h5BRiXdPixzmbh3F/gqn3arAKHmJtqX5o4ubGacV0i40qEZudyTWIpzGtnul8OJZb0KeXZuT5xRSnPBmPCVVDOtS5urlpSnPKWZsLlALqqjoaVKy5xOR25PciEywfY9xNWLhc3y39emHMu9bgbeLkwUoOp5bJclstyWS7LZbn+H67YB/8V1wcAXwk54RIl6MGmDLlcPX6Tl2sHclC+DrlqCYz145QLV6+WuZD4/D4ud1S9DrgcDdIVbJpy0bY8N2zAtQPOMFLFo0eGiwQdDryqPQa1Bv2qpbKKAD7GhhwrxqR7xqokMg97+aKhsprwYthPLY/iLNRt8EI0KVYs8SllMba4WDTKwlyhuam1Y2qZAHMvJ5Sz69JVGDW/uAgPCZOk8HGqGM9iK9ycemLydtSxAIUR9RX1n3TF38TEIPkzY0jtgV5avaWDudy73FeqpZKc1/xQeOimqW9ksh10zt4k7FXJJTDqioGOkoU/4FKEYLtxZsfUvZTwrtZ4JwLrriwjrzAtxKXo8qptZVbni+M5l3OlabOqN3TFZzINaZBaf2htnl7+44NbdQlSdjcDRG9OrJGSOo9KVUZ5zf6hY2VlZWVl9S/qcJhZ0qHXm7+wnrIMhxut/9Vstllr+9X6tptme6J5gN8Sm+a72eC3xh+E+1ofMCCUDXEd8edKGOK6Mb+O/W4RF2GaMd2K1s3JdWrM4N3I9dO/M+IS2XWzPtYS1+3efB9ecz3ta+pEW/MlxDOOh22QBvduIg5zriMHl2hu2dWk+zG7XwnnHjxI79k1eBeXSIM2v9PTyRyz9DGIU2As3f3QH4NUWFlZWf19/QbV0iIDxsjqHwAAAABJRU5ErkJggg== \"Udacity\") ![alt text](https://www.miskacademy.edu.sa/app/themes/misk-academy/images/logos.png \"Misk\") \n",
        "\n",
        "\n",
        "# Mini-Project: Analyze Data : Enron Fraud Data\n",
        "## by: Almutairi, Muhanned\n",
        "![alt text](data:image/png;base64,iVBORw0KGgoAAAANSUhEUgAAACAAAAAgCAYAAABzenr0AAACtklEQVR4AeyVA5AkQRREZ862bTMcZ9u2wzrbtm3bWNvmaW3b3rzKRa+NOWVEDoqvqv//LZPtUpoubC2cLIxKMveyku1UmkYAG2EoyFYESFEgQIos346dX7K7YiFyN8iFB17Sxx4NRxzVdcbYO6aotke5cgB42sFXDGDjF4FM+UbGY+5TK9FXKQBKOKTtjNz68CMAdQ+oVjyAXPicoRtyS8M5GA0PqRGwgm9gxxdMf2SBkNhEZCoxORXbVH9CXllBWHOvCla9sQNPbegRit3qDmhyWL1SYkCKA7kIxvoH1MBrr5KZllJ/IWnK3zskZ/SXEIDB1vm0trAO6K5ndNCYN5DRz9tgWxdhfnc8pQ2madXdSmDb7CeWWPfOHite22LoDWMegiDFj4GJ983hFBLD9IOPcEB0AjZ8+S6daIeaAwJFG/v8ouJh4ROB3uf1sFHpB34GRSMmMRlJKalISE5hLEHJIRCjbptAXlyAmY8tEZ2QjOzaK4qSbHs6AItTdhHwvpU3N0ZB+hYQhcGXDTi//AFSUtNPW5SY3lX3KJc7gKSwuESYeIXByDMM4XFJyC1bv0i0PKbJoCx/ALewWMwSwccApZe9skFwTAKyiXEjPYZyBziq48zUlVK09j4VvLL3Q3ZFxCdh/D0z7lG+AHFJKVj03DrHwhxHqOzimjMeWZQ/QKQ42ZQH5jkW5u896o7IJmYJa0T5A/BqJ+S6Wv7eqebwH+A/QOUBTMwHYFdpAaY9tACrVqyYECPMOr9d1UF6Gx7QcgLb2McxfCOOu2uaB2CLyk/EJ6WPo4PEmtOLqgOsZK2Pa4IDSUvPeWKFXud1pRre94Ie5jy1kvqnC+AWxzTYn2Odnud0MSdjDM0i1ObXOvDVBQjNEFciMJrhKHJwH5FmDgIPfNds4DuniO75P3r6HNY9BwATNI1Cu+uNpgAAAABJRU5ErkJggg== \"LinkedIn profile\")   [LinkedIn profile](https://www.linkedin.com/in/muhanned-almutairi-5bb1a5a0/)"
      ]
    },
    {
      "cell_type": "markdown",
      "metadata": {
        "id": "VWsTb1D6UNaI",
        "colab_type": "text"
      },
      "source": [
        "## Table of Contents\n",
        "- [Introduction](#intro)\n",
        "- [Part I - Gathering data](#Gathering)\n",
        "- [Part II - Analysis](#Ana)\n",
        "\n",
        "\n",
        "<a id='intro'></a>\n",
        "### Introduction\n"
      ]
    },
    {
      "cell_type": "markdown",
      "metadata": {
        "id": "Vd2r9tVUoP-Q",
        "colab_type": "text"
      },
      "source": [
        "The Enron fraud is a big, messy and totally fascinating story about corporate malfeasance of nearly every imaginable type. The Enron email and financial datasets are also big, messy treasure troves of information, which become much more useful once we know our way around them a bit. Udacity had combined the email and finance data into a single dataset, which we will explore in this mini-project."
      ]
    },
    {
      "cell_type": "markdown",
      "metadata": {
        "id": "pZt1UQ25VaJD",
        "colab_type": "text"
      },
      "source": [
        "<a id='Gathering'></a>\n",
        "### Part I - Gathering data"
      ]
    },
    {
      "cell_type": "code",
      "metadata": {
        "id": "V-uq1BWCnFT1",
        "colab_type": "code",
        "colab": {
          "base_uri": "https://localhost:8080/",
          "height": 34
        },
        "outputId": "a925d328-d66b-4432-bd3a-b2d0564c7e58"
      },
      "source": [
        "!git clone https://github.com/udacity/ud120-projects"
      ],
      "execution_count": 1,
      "outputs": [
        {
          "output_type": "stream",
          "text": [
            "fatal: destination path 'ud120-projects' already exists and is not an empty directory.\n"
          ],
          "name": "stdout"
        }
      ]
    },
    {
      "cell_type": "code",
      "metadata": {
        "id": "_6kuqO0K_UtN",
        "colab_type": "code",
        "colab": {}
      },
      "source": [
        "import pickle\n",
        "import pandas as pd\n",
        "with open(\"/content/ud120-projects/final_project/final_project_dataset.pkl\", \"rb\") as data_file:\n",
        "  data_dict  = pickle.load(data_file)\n",
        "  enron_data = pd.DataFrame.from_dict(data_dict, orient = 'index')"
      ],
      "execution_count": 2,
      "outputs": []
    },
    {
      "cell_type": "code",
      "metadata": {
        "id": "d9Aa5iPm_JGv",
        "colab_type": "code",
        "colab": {
          "base_uri": "https://localhost:8080/",
          "height": 326
        },
        "outputId": "4b9c0591-a10c-4db3-882c-1b99754e0424"
      },
      "source": [
        "enron_data.head()"
      ],
      "execution_count": 3,
      "outputs": [
        {
          "output_type": "execute_result",
          "data": {
            "text/html": [
              "<div>\n",
              "<style scoped>\n",
              "    .dataframe tbody tr th:only-of-type {\n",
              "        vertical-align: middle;\n",
              "    }\n",
              "\n",
              "    .dataframe tbody tr th {\n",
              "        vertical-align: top;\n",
              "    }\n",
              "\n",
              "    .dataframe thead th {\n",
              "        text-align: right;\n",
              "    }\n",
              "</style>\n",
              "<table border=\"1\" class=\"dataframe\">\n",
              "  <thead>\n",
              "    <tr style=\"text-align: right;\">\n",
              "      <th></th>\n",
              "      <th>salary</th>\n",
              "      <th>to_messages</th>\n",
              "      <th>deferral_payments</th>\n",
              "      <th>total_payments</th>\n",
              "      <th>loan_advances</th>\n",
              "      <th>bonus</th>\n",
              "      <th>email_address</th>\n",
              "      <th>restricted_stock_deferred</th>\n",
              "      <th>deferred_income</th>\n",
              "      <th>total_stock_value</th>\n",
              "      <th>expenses</th>\n",
              "      <th>from_poi_to_this_person</th>\n",
              "      <th>exercised_stock_options</th>\n",
              "      <th>from_messages</th>\n",
              "      <th>other</th>\n",
              "      <th>from_this_person_to_poi</th>\n",
              "      <th>poi</th>\n",
              "      <th>long_term_incentive</th>\n",
              "      <th>shared_receipt_with_poi</th>\n",
              "      <th>restricted_stock</th>\n",
              "      <th>director_fees</th>\n",
              "    </tr>\n",
              "  </thead>\n",
              "  <tbody>\n",
              "    <tr>\n",
              "      <th>METTS MARK</th>\n",
              "      <td>365788</td>\n",
              "      <td>807</td>\n",
              "      <td>NaN</td>\n",
              "      <td>1061827</td>\n",
              "      <td>NaN</td>\n",
              "      <td>600000</td>\n",
              "      <td>mark.metts@enron.com</td>\n",
              "      <td>NaN</td>\n",
              "      <td>NaN</td>\n",
              "      <td>585062</td>\n",
              "      <td>94299</td>\n",
              "      <td>38</td>\n",
              "      <td>NaN</td>\n",
              "      <td>29</td>\n",
              "      <td>1740</td>\n",
              "      <td>1</td>\n",
              "      <td>False</td>\n",
              "      <td>NaN</td>\n",
              "      <td>702</td>\n",
              "      <td>585062</td>\n",
              "      <td>NaN</td>\n",
              "    </tr>\n",
              "    <tr>\n",
              "      <th>BAXTER JOHN C</th>\n",
              "      <td>267102</td>\n",
              "      <td>NaN</td>\n",
              "      <td>1295738</td>\n",
              "      <td>5634343</td>\n",
              "      <td>NaN</td>\n",
              "      <td>1200000</td>\n",
              "      <td>NaN</td>\n",
              "      <td>NaN</td>\n",
              "      <td>-1386055</td>\n",
              "      <td>10623258</td>\n",
              "      <td>11200</td>\n",
              "      <td>NaN</td>\n",
              "      <td>6680544</td>\n",
              "      <td>NaN</td>\n",
              "      <td>2660303</td>\n",
              "      <td>NaN</td>\n",
              "      <td>False</td>\n",
              "      <td>1586055</td>\n",
              "      <td>NaN</td>\n",
              "      <td>3942714</td>\n",
              "      <td>NaN</td>\n",
              "    </tr>\n",
              "    <tr>\n",
              "      <th>ELLIOTT STEVEN</th>\n",
              "      <td>170941</td>\n",
              "      <td>NaN</td>\n",
              "      <td>NaN</td>\n",
              "      <td>211725</td>\n",
              "      <td>NaN</td>\n",
              "      <td>350000</td>\n",
              "      <td>steven.elliott@enron.com</td>\n",
              "      <td>NaN</td>\n",
              "      <td>-400729</td>\n",
              "      <td>6678735</td>\n",
              "      <td>78552</td>\n",
              "      <td>NaN</td>\n",
              "      <td>4890344</td>\n",
              "      <td>NaN</td>\n",
              "      <td>12961</td>\n",
              "      <td>NaN</td>\n",
              "      <td>False</td>\n",
              "      <td>NaN</td>\n",
              "      <td>NaN</td>\n",
              "      <td>1788391</td>\n",
              "      <td>NaN</td>\n",
              "    </tr>\n",
              "    <tr>\n",
              "      <th>CORDES WILLIAM R</th>\n",
              "      <td>NaN</td>\n",
              "      <td>764</td>\n",
              "      <td>NaN</td>\n",
              "      <td>NaN</td>\n",
              "      <td>NaN</td>\n",
              "      <td>NaN</td>\n",
              "      <td>bill.cordes@enron.com</td>\n",
              "      <td>NaN</td>\n",
              "      <td>NaN</td>\n",
              "      <td>1038185</td>\n",
              "      <td>NaN</td>\n",
              "      <td>10</td>\n",
              "      <td>651850</td>\n",
              "      <td>12</td>\n",
              "      <td>NaN</td>\n",
              "      <td>0</td>\n",
              "      <td>False</td>\n",
              "      <td>NaN</td>\n",
              "      <td>58</td>\n",
              "      <td>386335</td>\n",
              "      <td>NaN</td>\n",
              "    </tr>\n",
              "    <tr>\n",
              "      <th>HANNON KEVIN P</th>\n",
              "      <td>243293</td>\n",
              "      <td>1045</td>\n",
              "      <td>NaN</td>\n",
              "      <td>288682</td>\n",
              "      <td>NaN</td>\n",
              "      <td>1500000</td>\n",
              "      <td>kevin.hannon@enron.com</td>\n",
              "      <td>NaN</td>\n",
              "      <td>-3117011</td>\n",
              "      <td>6391065</td>\n",
              "      <td>34039</td>\n",
              "      <td>32</td>\n",
              "      <td>5538001</td>\n",
              "      <td>32</td>\n",
              "      <td>11350</td>\n",
              "      <td>21</td>\n",
              "      <td>True</td>\n",
              "      <td>1617011</td>\n",
              "      <td>1035</td>\n",
              "      <td>853064</td>\n",
              "      <td>NaN</td>\n",
              "    </tr>\n",
              "  </tbody>\n",
              "</table>\n",
              "</div>"
            ],
            "text/plain": [
              "                  salary to_messages  ... restricted_stock director_fees\n",
              "METTS MARK        365788         807  ...           585062           NaN\n",
              "BAXTER JOHN C     267102         NaN  ...          3942714           NaN\n",
              "ELLIOTT STEVEN    170941         NaN  ...          1788391           NaN\n",
              "CORDES WILLIAM R     NaN         764  ...           386335           NaN\n",
              "HANNON KEVIN P    243293        1045  ...           853064           NaN\n",
              "\n",
              "[5 rows x 21 columns]"
            ]
          },
          "metadata": {
            "tags": []
          },
          "execution_count": 3
        }
      ]
    },
    {
      "cell_type": "markdown",
      "metadata": {
        "id": "gCkhFNnUVS-F",
        "colab_type": "text"
      },
      "source": [
        "<a id='Ana'></a>\n",
        "### Part II - Analysis"
      ]
    },
    {
      "cell_type": "code",
      "metadata": {
        "id": "i81hLWI1C9Gp",
        "colab_type": "code",
        "colab": {
          "base_uri": "https://localhost:8080/",
          "height": 34
        },
        "outputId": "719ad417-4a04-4677-ed49-49428622e4c9"
      },
      "source": [
        "print(\"There are a total of {} people in the dataset.\" .format(len(enron_data.index)))"
      ],
      "execution_count": 4,
      "outputs": [
        {
          "output_type": "stream",
          "text": [
            "There are a total of 146 people in the dataset.\n"
          ],
          "name": "stdout"
        }
      ]
    },
    {
      "cell_type": "code",
      "metadata": {
        "id": "Rwe4VT_EDgl3",
        "colab_type": "code",
        "colab": {
          "base_uri": "https://localhost:8080/",
          "height": 34
        },
        "outputId": "c921e6a6-8196-464b-fb3d-148bd095b730"
      },
      "source": [
        "print(\"Out of which {} are POI and {} Non-POI.\" .format(enron_data['poi'].value_counts()[True], \n",
        "                                                 enron_data['poi'].value_counts()[False]))"
      ],
      "execution_count": 5,
      "outputs": [
        {
          "output_type": "stream",
          "text": [
            "Out of which 18 are POI and 128 Non-POI.\n"
          ],
          "name": "stdout"
        }
      ]
    },
    {
      "cell_type": "code",
      "metadata": {
        "id": "2t53PkioDr7d",
        "colab_type": "code",
        "colab": {
          "base_uri": "https://localhost:8080/",
          "height": 34
        },
        "outputId": "90f9784c-ecbe-4216-d8cb-2c5424264017"
      },
      "source": [
        "print(\"Total number of email plus financial features are {}. 'poi' column is our label.\".format(len(enron_data.columns)-1))"
      ],
      "execution_count": 6,
      "outputs": [
        {
          "output_type": "stream",
          "text": [
            "Total number of email plus financial features are 20. 'poi' column is our label.\n"
          ],
          "name": "stdout"
        }
      ]
    },
    {
      "cell_type": "markdown",
      "metadata": {
        "id": "0do2F84wUl8A",
        "colab_type": "text"
      },
      "source": [
        "##What is the total value of the stock belonging to James Prentice? "
      ]
    },
    {
      "cell_type": "code",
      "metadata": {
        "id": "MhLtlZfqabgP",
        "colab_type": "code",
        "colab": {
          "base_uri": "https://localhost:8080/",
          "height": 34
        },
        "outputId": "efd30d95-10e7-4f04-bb3c-98886d4bfd0b"
      },
      "source": [
        " print(\"What is the total value of the stock belonging to James Prentice?   : {}\".format(enron_data['total_stock_value']['PRENTICE JAMES']))"
      ],
      "execution_count": 7,
      "outputs": [
        {
          "output_type": "stream",
          "text": [
            "What is the total value of the stock belonging to James Prentice?   : 1095040\n"
          ],
          "name": "stdout"
        }
      ]
    },
    {
      "cell_type": "markdown",
      "metadata": {
        "id": "lEoZPdIjUSif",
        "colab_type": "text"
      },
      "source": [
        "##How many email messages do we have from Wesley Colwell to persons of interest?"
      ]
    },
    {
      "cell_type": "code",
      "metadata": {
        "id": "PveWHfBDdGi9",
        "colab_type": "code",
        "colab": {
          "base_uri": "https://localhost:8080/",
          "height": 34
        },
        "outputId": "856803f3-ac59-4f7d-b390-a4ab7f0e54f9"
      },
      "source": [
        " print(\"How many email messages do we have from Wesley Colwell to persons of interest?   : {}\".format(enron_data['from_this_person_to_poi']['COLWELL WESLEY']))"
      ],
      "execution_count": 8,
      "outputs": [
        {
          "output_type": "stream",
          "text": [
            "How many email messages do we have from Wesley Colwell to persons of interest?   : 11\n"
          ],
          "name": "stdout"
        }
      ]
    },
    {
      "cell_type": "markdown",
      "metadata": {
        "id": "lBiOq56NUOXH",
        "colab_type": "text"
      },
      "source": [
        "##What’s the value of stock options exercised by Jeffrey K Skilling? "
      ]
    },
    {
      "cell_type": "code",
      "metadata": {
        "id": "Jnx-g_Smd_yC",
        "colab_type": "code",
        "colab": {
          "base_uri": "https://localhost:8080/",
          "height": 34
        },
        "outputId": "61e61dbb-5b34-4b04-8b45-c42fb82a839e"
      },
      "source": [
        " print(\"What’s the value of stock options exercised by Jeffrey K Skilling?   : {}\".format(enron_data['exercised_stock_options']['SKILLING JEFFREY K']))"
      ],
      "execution_count": 9,
      "outputs": [
        {
          "output_type": "stream",
          "text": [
            "What’s the value of stock options exercised by Jeffrey K Skilling?   : 19250000\n"
          ],
          "name": "stdout"
        }
      ]
    },
    {
      "cell_type": "markdown",
      "metadata": {
        "id": "mLF7hxNiUJJr",
        "colab_type": "text"
      },
      "source": [
        "##Of these three individuals (Lay, Skilling and Fastow), who took home the most money?"
      ]
    },
    {
      "cell_type": "code",
      "metadata": {
        "id": "4Dlrq8ouCtLr",
        "colab_type": "code",
        "colab": {
          "base_uri": "https://localhost:8080/",
          "height": 34
        },
        "outputId": "77a78b09-121a-45b4-8b72-d4d5eb2b760a"
      },
      "source": [
        "print(\"Of these three individuals (Lay, Skilling and Fastow), who took home the most money? Mr. Skilling : {}, Mr. Lay : {}, Mr. Fastow : {} \".format(enron_data['total_payments']['SKILLING JEFFREY K'], enron_data['total_payments']['LAY KENNETH L'] , enron_data['total_payments']['FASTOW ANDREW S']))"
      ],
      "execution_count": 10,
      "outputs": [
        {
          "output_type": "stream",
          "text": [
            "Of these three individuals (Lay, Skilling and Fastow), who took home the most money? Mr. Skilling : 8682716, Mr. Lay : 103559793, Mr. Fastow : 2424083 \n"
          ],
          "name": "stdout"
        }
      ]
    },
    {
      "cell_type": "code",
      "metadata": {
        "id": "O5I7FJVoG6jc",
        "colab_type": "code",
        "colab": {
          "base_uri": "https://localhost:8080/",
          "height": 193
        },
        "outputId": "077d42db-afc6-47cd-c6b3-158cc904b9ba"
      },
      "source": [
        "enron_data.describe()"
      ],
      "execution_count": 11,
      "outputs": [
        {
          "output_type": "execute_result",
          "data": {
            "text/html": [
              "<div>\n",
              "<style scoped>\n",
              "    .dataframe tbody tr th:only-of-type {\n",
              "        vertical-align: middle;\n",
              "    }\n",
              "\n",
              "    .dataframe tbody tr th {\n",
              "        vertical-align: top;\n",
              "    }\n",
              "\n",
              "    .dataframe thead th {\n",
              "        text-align: right;\n",
              "    }\n",
              "</style>\n",
              "<table border=\"1\" class=\"dataframe\">\n",
              "  <thead>\n",
              "    <tr style=\"text-align: right;\">\n",
              "      <th></th>\n",
              "      <th>salary</th>\n",
              "      <th>to_messages</th>\n",
              "      <th>deferral_payments</th>\n",
              "      <th>total_payments</th>\n",
              "      <th>loan_advances</th>\n",
              "      <th>bonus</th>\n",
              "      <th>email_address</th>\n",
              "      <th>restricted_stock_deferred</th>\n",
              "      <th>deferred_income</th>\n",
              "      <th>total_stock_value</th>\n",
              "      <th>expenses</th>\n",
              "      <th>from_poi_to_this_person</th>\n",
              "      <th>exercised_stock_options</th>\n",
              "      <th>from_messages</th>\n",
              "      <th>other</th>\n",
              "      <th>from_this_person_to_poi</th>\n",
              "      <th>poi</th>\n",
              "      <th>long_term_incentive</th>\n",
              "      <th>shared_receipt_with_poi</th>\n",
              "      <th>restricted_stock</th>\n",
              "      <th>director_fees</th>\n",
              "    </tr>\n",
              "  </thead>\n",
              "  <tbody>\n",
              "    <tr>\n",
              "      <th>count</th>\n",
              "      <td>146</td>\n",
              "      <td>146</td>\n",
              "      <td>146</td>\n",
              "      <td>146</td>\n",
              "      <td>146</td>\n",
              "      <td>146</td>\n",
              "      <td>146</td>\n",
              "      <td>146</td>\n",
              "      <td>146</td>\n",
              "      <td>146</td>\n",
              "      <td>146</td>\n",
              "      <td>146</td>\n",
              "      <td>146</td>\n",
              "      <td>146</td>\n",
              "      <td>146</td>\n",
              "      <td>146</td>\n",
              "      <td>146</td>\n",
              "      <td>146</td>\n",
              "      <td>146</td>\n",
              "      <td>146</td>\n",
              "      <td>146</td>\n",
              "    </tr>\n",
              "    <tr>\n",
              "      <th>unique</th>\n",
              "      <td>95</td>\n",
              "      <td>87</td>\n",
              "      <td>40</td>\n",
              "      <td>126</td>\n",
              "      <td>5</td>\n",
              "      <td>42</td>\n",
              "      <td>112</td>\n",
              "      <td>19</td>\n",
              "      <td>45</td>\n",
              "      <td>125</td>\n",
              "      <td>95</td>\n",
              "      <td>58</td>\n",
              "      <td>102</td>\n",
              "      <td>65</td>\n",
              "      <td>93</td>\n",
              "      <td>42</td>\n",
              "      <td>2</td>\n",
              "      <td>53</td>\n",
              "      <td>84</td>\n",
              "      <td>98</td>\n",
              "      <td>18</td>\n",
              "    </tr>\n",
              "    <tr>\n",
              "      <th>top</th>\n",
              "      <td>NaN</td>\n",
              "      <td>NaN</td>\n",
              "      <td>NaN</td>\n",
              "      <td>NaN</td>\n",
              "      <td>NaN</td>\n",
              "      <td>NaN</td>\n",
              "      <td>NaN</td>\n",
              "      <td>NaN</td>\n",
              "      <td>NaN</td>\n",
              "      <td>NaN</td>\n",
              "      <td>NaN</td>\n",
              "      <td>NaN</td>\n",
              "      <td>NaN</td>\n",
              "      <td>NaN</td>\n",
              "      <td>NaN</td>\n",
              "      <td>NaN</td>\n",
              "      <td>False</td>\n",
              "      <td>NaN</td>\n",
              "      <td>NaN</td>\n",
              "      <td>NaN</td>\n",
              "      <td>NaN</td>\n",
              "    </tr>\n",
              "    <tr>\n",
              "      <th>freq</th>\n",
              "      <td>51</td>\n",
              "      <td>60</td>\n",
              "      <td>107</td>\n",
              "      <td>21</td>\n",
              "      <td>142</td>\n",
              "      <td>64</td>\n",
              "      <td>35</td>\n",
              "      <td>128</td>\n",
              "      <td>97</td>\n",
              "      <td>20</td>\n",
              "      <td>51</td>\n",
              "      <td>60</td>\n",
              "      <td>44</td>\n",
              "      <td>60</td>\n",
              "      <td>53</td>\n",
              "      <td>60</td>\n",
              "      <td>128</td>\n",
              "      <td>80</td>\n",
              "      <td>60</td>\n",
              "      <td>36</td>\n",
              "      <td>129</td>\n",
              "    </tr>\n",
              "  </tbody>\n",
              "</table>\n",
              "</div>"
            ],
            "text/plain": [
              "       salary to_messages  ... restricted_stock director_fees\n",
              "count     146         146  ...              146           146\n",
              "unique     95          87  ...               98            18\n",
              "top       NaN         NaN  ...              NaN           NaN\n",
              "freq       51          60  ...               36           129\n",
              "\n",
              "[4 rows x 21 columns]"
            ]
          },
          "metadata": {
            "tags": []
          },
          "execution_count": 11
        }
      ]
    },
    {
      "cell_type": "markdown",
      "metadata": {
        "id": "hsfybSwSHmyJ",
        "colab_type": "text"
      },
      "source": [
        "##How many folks in this dataset have a quantified salary? What about a known email address?\n",
        "\n"
      ]
    },
    {
      "cell_type": "code",
      "metadata": {
        "id": "K6cVpcmsHl-Z",
        "colab_type": "code",
        "colab": {
          "base_uri": "https://localhost:8080/",
          "height": 34
        },
        "outputId": "4bc48ded-6482-48a1-faf6-dbbd0a230d58"
      },
      "source": [
        "print( \"How many folks in this dataset have a quantified salary? : {} What about a known email address? : {}\".format(95, (enron_data.shape[0]) - ((enron_data.email_address == 'NaN').sum())))"
      ],
      "execution_count": 12,
      "outputs": [
        {
          "output_type": "stream",
          "text": [
            "How many folks in this dataset have a quantified salary? : 95 What about a known email address? : 111\n"
          ],
          "name": "stdout"
        }
      ]
    },
    {
      "cell_type": "markdown",
      "metadata": {
        "id": "m07yN_u4Xwzz",
        "colab_type": "text"
      },
      "source": [
        "##How many people in the E+F dataset (as it currently exists) have “NaN” for their total payments? What percentage of people in the dataset as a whole is this?"
      ]
    },
    {
      "cell_type": "code",
      "metadata": {
        "id": "Ot67PShOYJEI",
        "colab_type": "code",
        "colab": {
          "base_uri": "https://localhost:8080/",
          "height": 34
        },
        "outputId": "701f2c84-981e-46b5-a57a-b5b3e15e7286"
      },
      "source": [
        "print('How many people in the dataset have “NaN” for their total payments? : {} , What percentage : {} '.format(sum(enron_data.total_payments.loc[:]=='NaN'), 100*(sum(enron_data.total_payments.loc[:]=='NaN')/enron_data.shape[0])))"
      ],
      "execution_count": 15,
      "outputs": [
        {
          "output_type": "stream",
          "text": [
            "How many people in the dataset have “NaN” for their total payments? : 21 , What percentage : 14.383561643835616 \n"
          ],
          "name": "stdout"
        }
      ]
    },
    {
      "cell_type": "markdown",
      "metadata": {
        "id": "j_yJr-j1b7Wy",
        "colab_type": "text"
      },
      "source": [
        "##How many POIs in the E+F dataset have “NaN” for their total payments? What percentage of POI’s as a whole is this?\n",
        "\n"
      ]
    },
    {
      "cell_type": "code",
      "metadata": {
        "id": "9KboGC3eM2ow",
        "colab_type": "code",
        "colab": {}
      },
      "source": [
        "import numpy as np\n",
        "nan = np.nan"
      ],
      "execution_count": 16,
      "outputs": []
    },
    {
      "cell_type": "code",
      "metadata": {
        "id": "l72w2R7NYqYZ",
        "colab_type": "code",
        "colab": {
          "base_uri": "https://localhost:8080/",
          "height": 34
        },
        "outputId": "a4b8b3db-fcd1-4b1a-acc7-a684100e2cfa"
      },
      "source": [
        "print('How many POIs in the dataset have “NaN” for their total payments? : {}  '.format(len(enron_data.query(\"(poi == True) and (total_payments == @nan)\"))))"
      ],
      "execution_count": 17,
      "outputs": [
        {
          "output_type": "stream",
          "text": [
            "How many POIs in the dataset have “NaN” for their total payments? : 0  \n"
          ],
          "name": "stdout"
        }
      ]
    },
    {
      "cell_type": "markdown",
      "metadata": {
        "id": "u9reMXPtNmpg",
        "colab_type": "text"
      },
      "source": [
        "##What is the new number of people of the dataset? What is the new number of folks with “NaN” for total payments?"
      ]
    },
    {
      "cell_type": "markdown",
      "metadata": {
        "id": "yAGc0MoGNq0E",
        "colab_type": "text"
      },
      "source": [
        "If you added in, say, 10 more data points which were all POI’s, and put “NaN” for the total payments for those folks, the numbers you just calculated would change."
      ]
    },
    {
      "cell_type": "code",
      "metadata": {
        "id": "IAXAzxmbNsmg",
        "colab_type": "code",
        "colab": {
          "base_uri": "https://localhost:8080/",
          "height": 34
        },
        "outputId": "7ee5f168-b8ee-498c-a61b-b06da2badc09"
      },
      "source": [
        "print('what is number of people : {} , What is number of folks : {} '.format((enron_data.shape[0] + 10), sum(enron_data.total_payments.loc[:]=='NaN')+10))"
      ],
      "execution_count": 18,
      "outputs": [
        {
          "output_type": "stream",
          "text": [
            "what is number of people : 156 , What is number of folks : 31 \n"
          ],
          "name": "stdout"
        }
      ]
    },
    {
      "cell_type": "markdown",
      "metadata": {
        "id": "-fmQ8v68Rpjl",
        "colab_type": "text"
      },
      "source": [
        "##What is the new number of POI’s in the dataset? What is the new number of POI’s with NaN for total_payments?"
      ]
    },
    {
      "cell_type": "code",
      "metadata": {
        "id": "pnweN5scRrtO",
        "colab_type": "code",
        "colab": {
          "base_uri": "https://localhost:8080/",
          "height": 34
        },
        "outputId": "33af8a4b-3eac-4684-8eba-f836da1761e7"
      },
      "source": [
        "print('what is number of POI : {} , What is number of POIs with NaN : {} '.format((enron_data['poi'].value_counts()[True] + 10), len(enron_data.query(\"(poi == True) and (total_payments == @nan)\"))+10))"
      ],
      "execution_count": 19,
      "outputs": [
        {
          "output_type": "stream",
          "text": [
            "what is number of POI : 28 , What is number of POIs with NaN : 10 \n"
          ],
          "name": "stdout"
        }
      ]
    }
  ]
}