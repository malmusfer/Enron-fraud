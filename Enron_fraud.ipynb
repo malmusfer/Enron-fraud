{
  "nbformat": 4,
  "nbformat_minor": 0,
  "metadata": {
    "colab": {
      "name": "Enron fraud.ipynb",
      "provenance": [],
      "authorship_tag": "ABX9TyMuueVWuAmcZMSP6722/zPX",
      "include_colab_link": true
    },
    "kernelspec": {
      "name": "python3",
      "display_name": "Python 3"
    }
  },
  "cells": [
    {
      "cell_type": "markdown",
      "metadata": {
        "id": "view-in-github",
        "colab_type": "text"
      },
      "source": [
        "<a href=\"https://colab.research.google.com/github/malmusfer/Enron-fraud/blob/master/Enron_fraud.ipynb\" target=\"_parent\"><img src=\"https://colab.research.google.com/assets/colab-badge.svg\" alt=\"Open In Colab\"/></a>"
      ]
    },
    {
      "cell_type": "markdown",
      "metadata": {
        "id": "Vd2r9tVUoP-Q",
        "colab_type": "text"
      },
      "source": [
        "The Enron fraud is a big, messy and totally fascinating story about corporate malfeasance of nearly every imaginable type. The Enron email and financial datasets are also big, messy treasure troves of information, which become much more useful once you know your way around them a bit. We’ve combined the email and finance data into a single dataset, which you’ll explore in this mini-project."
      ]
    },
    {
      "cell_type": "code",
      "metadata": {
        "id": "V-uq1BWCnFT1",
        "colab_type": "code",
        "colab": {
          "base_uri": "https://localhost:8080/",
          "height": 102
        },
        "outputId": "b202dbb6-12ac-46fd-9a80-19f40967c9b0"
      },
      "source": [
        "!git clone https://github.com/udacity/ud120-projects"
      ],
      "execution_count": 2,
      "outputs": [
        {
          "output_type": "stream",
          "text": [
            "Cloning into 'ud120-projects'...\n",
            "remote: Enumerating objects: 5046, done.\u001b[K\n",
            "remote: Total 5046 (delta 0), reused 0 (delta 0), pack-reused 5046\u001b[K\n",
            "Receiving objects: 100% (5046/5046), 19.64 MiB | 2.66 MiB/s, done.\n",
            "Resolving deltas: 100% (4372/4372), done.\n"
          ],
          "name": "stdout"
        }
      ]
    },
    {
      "cell_type": "code",
      "metadata": {
        "id": "jTchRowPodUa",
        "colab_type": "code",
        "colab": {
          "base_uri": "https://localhost:8080/",
          "height": 85
        },
        "outputId": "5a04eabc-cfdb-47bd-e4f7-a66e060192cf"
      },
      "source": [
        "!python /content/ud120-projects/datasets_questions/explore_enron_data.py"
      ],
      "execution_count": 2,
      "outputs": [
        {
          "output_type": "stream",
          "text": [
            "Traceback (most recent call last):\n",
            "  File \"/content/ud120-projects/datasets_questions/explore_enron_data.py\", line 20, in <module>\n",
            "    enron_data = pickle.load(open(\"../final_project/final_project_dataset.pkl\", \"rb\"))\n",
            "FileNotFoundError: [Errno 2] No such file or directory: '../final_project/final_project_dataset.pkl'\n"
          ],
          "name": "stdout"
        }
      ]
    },
    {
      "cell_type": "code",
      "metadata": {
        "id": "_6kuqO0K_UtN",
        "colab_type": "code",
        "colab": {}
      },
      "source": [
        "import pickle\n",
        "import pandas as pd\n",
        "with open(\"/content/ud120-projects/final_project/final_project_dataset.pkl\", \"rb\") as data_file:\n",
        "  data_dict  = pickle.load(data_file)\n",
        "  enron_data = pd.DataFrame.from_dict(data_dict, orient = 'index')"
      ],
      "execution_count": 3,
      "outputs": []
    },
    {
      "cell_type": "code",
      "metadata": {
        "id": "d9Aa5iPm_JGv",
        "colab_type": "code",
        "colab": {
          "base_uri": "https://localhost:8080/",
          "height": 326
        },
        "outputId": "5d8ed124-b217-4155-bbd9-ebd698b211a2"
      },
      "source": [
        "enron_data.head()"
      ],
      "execution_count": 4,
      "outputs": [
        {
          "output_type": "execute_result",
          "data": {
            "text/html": [
              "<div>\n",
              "<style scoped>\n",
              "    .dataframe tbody tr th:only-of-type {\n",
              "        vertical-align: middle;\n",
              "    }\n",
              "\n",
              "    .dataframe tbody tr th {\n",
              "        vertical-align: top;\n",
              "    }\n",
              "\n",
              "    .dataframe thead th {\n",
              "        text-align: right;\n",
              "    }\n",
              "</style>\n",
              "<table border=\"1\" class=\"dataframe\">\n",
              "  <thead>\n",
              "    <tr style=\"text-align: right;\">\n",
              "      <th></th>\n",
              "      <th>salary</th>\n",
              "      <th>to_messages</th>\n",
              "      <th>deferral_payments</th>\n",
              "      <th>total_payments</th>\n",
              "      <th>loan_advances</th>\n",
              "      <th>bonus</th>\n",
              "      <th>email_address</th>\n",
              "      <th>restricted_stock_deferred</th>\n",
              "      <th>deferred_income</th>\n",
              "      <th>total_stock_value</th>\n",
              "      <th>expenses</th>\n",
              "      <th>from_poi_to_this_person</th>\n",
              "      <th>exercised_stock_options</th>\n",
              "      <th>from_messages</th>\n",
              "      <th>other</th>\n",
              "      <th>from_this_person_to_poi</th>\n",
              "      <th>poi</th>\n",
              "      <th>long_term_incentive</th>\n",
              "      <th>shared_receipt_with_poi</th>\n",
              "      <th>restricted_stock</th>\n",
              "      <th>director_fees</th>\n",
              "    </tr>\n",
              "  </thead>\n",
              "  <tbody>\n",
              "    <tr>\n",
              "      <th>METTS MARK</th>\n",
              "      <td>365788</td>\n",
              "      <td>807</td>\n",
              "      <td>NaN</td>\n",
              "      <td>1061827</td>\n",
              "      <td>NaN</td>\n",
              "      <td>600000</td>\n",
              "      <td>mark.metts@enron.com</td>\n",
              "      <td>NaN</td>\n",
              "      <td>NaN</td>\n",
              "      <td>585062</td>\n",
              "      <td>94299</td>\n",
              "      <td>38</td>\n",
              "      <td>NaN</td>\n",
              "      <td>29</td>\n",
              "      <td>1740</td>\n",
              "      <td>1</td>\n",
              "      <td>False</td>\n",
              "      <td>NaN</td>\n",
              "      <td>702</td>\n",
              "      <td>585062</td>\n",
              "      <td>NaN</td>\n",
              "    </tr>\n",
              "    <tr>\n",
              "      <th>BAXTER JOHN C</th>\n",
              "      <td>267102</td>\n",
              "      <td>NaN</td>\n",
              "      <td>1295738</td>\n",
              "      <td>5634343</td>\n",
              "      <td>NaN</td>\n",
              "      <td>1200000</td>\n",
              "      <td>NaN</td>\n",
              "      <td>NaN</td>\n",
              "      <td>-1386055</td>\n",
              "      <td>10623258</td>\n",
              "      <td>11200</td>\n",
              "      <td>NaN</td>\n",
              "      <td>6680544</td>\n",
              "      <td>NaN</td>\n",
              "      <td>2660303</td>\n",
              "      <td>NaN</td>\n",
              "      <td>False</td>\n",
              "      <td>1586055</td>\n",
              "      <td>NaN</td>\n",
              "      <td>3942714</td>\n",
              "      <td>NaN</td>\n",
              "    </tr>\n",
              "    <tr>\n",
              "      <th>ELLIOTT STEVEN</th>\n",
              "      <td>170941</td>\n",
              "      <td>NaN</td>\n",
              "      <td>NaN</td>\n",
              "      <td>211725</td>\n",
              "      <td>NaN</td>\n",
              "      <td>350000</td>\n",
              "      <td>steven.elliott@enron.com</td>\n",
              "      <td>NaN</td>\n",
              "      <td>-400729</td>\n",
              "      <td>6678735</td>\n",
              "      <td>78552</td>\n",
              "      <td>NaN</td>\n",
              "      <td>4890344</td>\n",
              "      <td>NaN</td>\n",
              "      <td>12961</td>\n",
              "      <td>NaN</td>\n",
              "      <td>False</td>\n",
              "      <td>NaN</td>\n",
              "      <td>NaN</td>\n",
              "      <td>1788391</td>\n",
              "      <td>NaN</td>\n",
              "    </tr>\n",
              "    <tr>\n",
              "      <th>CORDES WILLIAM R</th>\n",
              "      <td>NaN</td>\n",
              "      <td>764</td>\n",
              "      <td>NaN</td>\n",
              "      <td>NaN</td>\n",
              "      <td>NaN</td>\n",
              "      <td>NaN</td>\n",
              "      <td>bill.cordes@enron.com</td>\n",
              "      <td>NaN</td>\n",
              "      <td>NaN</td>\n",
              "      <td>1038185</td>\n",
              "      <td>NaN</td>\n",
              "      <td>10</td>\n",
              "      <td>651850</td>\n",
              "      <td>12</td>\n",
              "      <td>NaN</td>\n",
              "      <td>0</td>\n",
              "      <td>False</td>\n",
              "      <td>NaN</td>\n",
              "      <td>58</td>\n",
              "      <td>386335</td>\n",
              "      <td>NaN</td>\n",
              "    </tr>\n",
              "    <tr>\n",
              "      <th>HANNON KEVIN P</th>\n",
              "      <td>243293</td>\n",
              "      <td>1045</td>\n",
              "      <td>NaN</td>\n",
              "      <td>288682</td>\n",
              "      <td>NaN</td>\n",
              "      <td>1500000</td>\n",
              "      <td>kevin.hannon@enron.com</td>\n",
              "      <td>NaN</td>\n",
              "      <td>-3117011</td>\n",
              "      <td>6391065</td>\n",
              "      <td>34039</td>\n",
              "      <td>32</td>\n",
              "      <td>5538001</td>\n",
              "      <td>32</td>\n",
              "      <td>11350</td>\n",
              "      <td>21</td>\n",
              "      <td>True</td>\n",
              "      <td>1617011</td>\n",
              "      <td>1035</td>\n",
              "      <td>853064</td>\n",
              "      <td>NaN</td>\n",
              "    </tr>\n",
              "  </tbody>\n",
              "</table>\n",
              "</div>"
            ],
            "text/plain": [
              "                  salary to_messages  ... restricted_stock director_fees\n",
              "METTS MARK        365788         807  ...           585062           NaN\n",
              "BAXTER JOHN C     267102         NaN  ...          3942714           NaN\n",
              "ELLIOTT STEVEN    170941         NaN  ...          1788391           NaN\n",
              "CORDES WILLIAM R     NaN         764  ...           386335           NaN\n",
              "HANNON KEVIN P    243293        1045  ...           853064           NaN\n",
              "\n",
              "[5 rows x 21 columns]"
            ]
          },
          "metadata": {
            "tags": []
          },
          "execution_count": 4
        }
      ]
    },
    {
      "cell_type": "code",
      "metadata": {
        "id": "i81hLWI1C9Gp",
        "colab_type": "code",
        "colab": {
          "base_uri": "https://localhost:8080/",
          "height": 34
        },
        "outputId": "c07d1d25-d70d-4edc-d38d-1b1e95fadbb8"
      },
      "source": [
        "print(\"There are a total of {} people in the dataset.\" .format(len(enron_data.index)))"
      ],
      "execution_count": 5,
      "outputs": [
        {
          "output_type": "stream",
          "text": [
            "There are a total of 146 people in the dataset.\n"
          ],
          "name": "stdout"
        }
      ]
    },
    {
      "cell_type": "code",
      "metadata": {
        "id": "Rwe4VT_EDgl3",
        "colab_type": "code",
        "colab": {
          "base_uri": "https://localhost:8080/",
          "height": 34
        },
        "outputId": "e2a69740-5189-4e05-8fa4-13d865b7acfb"
      },
      "source": [
        "print(\"Out of which {} are POI and {} Non-POI.\" .format(enron_data['poi'].value_counts()[True], \n",
        "                                                 enron_data['poi'].value_counts()[False]))"
      ],
      "execution_count": 6,
      "outputs": [
        {
          "output_type": "stream",
          "text": [
            "Out of which 18 are POI and 128 Non-POI.\n"
          ],
          "name": "stdout"
        }
      ]
    },
    {
      "cell_type": "code",
      "metadata": {
        "id": "2t53PkioDr7d",
        "colab_type": "code",
        "colab": {
          "base_uri": "https://localhost:8080/",
          "height": 34
        },
        "outputId": "736b2634-57a2-4f4b-84e0-70cda2fc30e8"
      },
      "source": [
        "print(\"Total number of email plus financial features are {}. 'poi' column is our label.\".format(len(enron_data.columns)-1))"
      ],
      "execution_count": 7,
      "outputs": [
        {
          "output_type": "stream",
          "text": [
            "Total number of email plus financial features are 20. 'poi' column is our label.\n"
          ],
          "name": "stdout"
        }
      ]
    },
    {
      "cell_type": "markdown",
      "metadata": {
        "id": "0do2F84wUl8A",
        "colab_type": "text"
      },
      "source": [
        "##What is the total value of the stock belonging to James Prentice? "
      ]
    },
    {
      "cell_type": "code",
      "metadata": {
        "id": "MhLtlZfqabgP",
        "colab_type": "code",
        "colab": {
          "base_uri": "https://localhost:8080/",
          "height": 34
        },
        "outputId": "fec68651-0282-47fb-d3b7-36cce683d968"
      },
      "source": [
        " print(\"What is the total value of the stock belonging to James Prentice?   : {}\".format(enron_data['total_stock_value']['PRENTICE JAMES']))"
      ],
      "execution_count": 8,
      "outputs": [
        {
          "output_type": "stream",
          "text": [
            "What is the total value of the stock belonging to James Prentice?   : 1095040\n"
          ],
          "name": "stdout"
        }
      ]
    },
    {
      "cell_type": "markdown",
      "metadata": {
        "id": "lEoZPdIjUSif",
        "colab_type": "text"
      },
      "source": [
        "##How many email messages do we have from Wesley Colwell to persons of interest?"
      ]
    },
    {
      "cell_type": "code",
      "metadata": {
        "id": "PveWHfBDdGi9",
        "colab_type": "code",
        "colab": {
          "base_uri": "https://localhost:8080/",
          "height": 34
        },
        "outputId": "f28643dd-8701-4155-efbc-c85b779e3a8a"
      },
      "source": [
        " print(\"How many email messages do we have from Wesley Colwell to persons of interest?   : {}\".format(enron_data['from_this_person_to_poi']['COLWELL WESLEY']))"
      ],
      "execution_count": 9,
      "outputs": [
        {
          "output_type": "stream",
          "text": [
            "How many email messages do we have from Wesley Colwell to persons of interest?   : 11\n"
          ],
          "name": "stdout"
        }
      ]
    },
    {
      "cell_type": "markdown",
      "metadata": {
        "id": "lBiOq56NUOXH",
        "colab_type": "text"
      },
      "source": [
        "##What’s the value of stock options exercised by Jeffrey K Skilling? "
      ]
    },
    {
      "cell_type": "code",
      "metadata": {
        "id": "Jnx-g_Smd_yC",
        "colab_type": "code",
        "colab": {
          "base_uri": "https://localhost:8080/",
          "height": 34
        },
        "outputId": "6778514d-5f59-4580-93e6-dc5cad00733b"
      },
      "source": [
        " print(\"What’s the value of stock options exercised by Jeffrey K Skilling?   : {}\".format(enron_data['exercised_stock_options']['SKILLING JEFFREY K']))"
      ],
      "execution_count": 10,
      "outputs": [
        {
          "output_type": "stream",
          "text": [
            "What’s the value of stock options exercised by Jeffrey K Skilling?   : 19250000\n"
          ],
          "name": "stdout"
        }
      ]
    },
    {
      "cell_type": "markdown",
      "metadata": {
        "id": "mLF7hxNiUJJr",
        "colab_type": "text"
      },
      "source": [
        "##Of these three individuals (Lay, Skilling and Fastow), who took home the most money?"
      ]
    },
    {
      "cell_type": "code",
      "metadata": {
        "id": "4Dlrq8ouCtLr",
        "colab_type": "code",
        "colab": {
          "base_uri": "https://localhost:8080/",
          "height": 54
        },
        "outputId": "1f789662-d304-411f-c849-fa137a4a0a39"
      },
      "source": [
        " print(\"Of these three individuals (Lay, Skilling and Fastow), who took home the most money? Mr. Skilling : {}, Mr. Lay : {}, Mr. Fastow : {} \".format(enron_data['total_payments']['SKILLING JEFFREY K'], enron_data['total_payments']['LAY KENNETH L'] , enron_data['total_payments']['FASTOW ANDREW S']))"
      ],
      "execution_count": 28,
      "outputs": [
        {
          "output_type": "stream",
          "text": [
            "Of these three individuals (Lay, Skilling and Fastow), who took home the most money? Mr. Skilling : 8682716, Mr. Lay : 103559793, Mr. Fastow : 2424083 \n"
          ],
          "name": "stdout"
        }
      ]
    },
    {
      "cell_type": "code",
      "metadata": {
        "id": "O5I7FJVoG6jc",
        "colab_type": "code",
        "colab": {
          "base_uri": "https://localhost:8080/",
          "height": 193
        },
        "outputId": "0e179372-e1cb-4e92-ad27-cb576afad5b0"
      },
      "source": [
        "enron_data.describe()"
      ],
      "execution_count": 30,
      "outputs": [
        {
          "output_type": "execute_result",
          "data": {
            "text/html": [
              "<div>\n",
              "<style scoped>\n",
              "    .dataframe tbody tr th:only-of-type {\n",
              "        vertical-align: middle;\n",
              "    }\n",
              "\n",
              "    .dataframe tbody tr th {\n",
              "        vertical-align: top;\n",
              "    }\n",
              "\n",
              "    .dataframe thead th {\n",
              "        text-align: right;\n",
              "    }\n",
              "</style>\n",
              "<table border=\"1\" class=\"dataframe\">\n",
              "  <thead>\n",
              "    <tr style=\"text-align: right;\">\n",
              "      <th></th>\n",
              "      <th>salary</th>\n",
              "      <th>to_messages</th>\n",
              "      <th>deferral_payments</th>\n",
              "      <th>total_payments</th>\n",
              "      <th>loan_advances</th>\n",
              "      <th>bonus</th>\n",
              "      <th>email_address</th>\n",
              "      <th>restricted_stock_deferred</th>\n",
              "      <th>deferred_income</th>\n",
              "      <th>total_stock_value</th>\n",
              "      <th>expenses</th>\n",
              "      <th>from_poi_to_this_person</th>\n",
              "      <th>exercised_stock_options</th>\n",
              "      <th>from_messages</th>\n",
              "      <th>other</th>\n",
              "      <th>from_this_person_to_poi</th>\n",
              "      <th>poi</th>\n",
              "      <th>long_term_incentive</th>\n",
              "      <th>shared_receipt_with_poi</th>\n",
              "      <th>restricted_stock</th>\n",
              "      <th>director_fees</th>\n",
              "    </tr>\n",
              "  </thead>\n",
              "  <tbody>\n",
              "    <tr>\n",
              "      <th>count</th>\n",
              "      <td>146</td>\n",
              "      <td>146</td>\n",
              "      <td>146</td>\n",
              "      <td>146</td>\n",
              "      <td>146</td>\n",
              "      <td>146</td>\n",
              "      <td>146</td>\n",
              "      <td>146</td>\n",
              "      <td>146</td>\n",
              "      <td>146</td>\n",
              "      <td>146</td>\n",
              "      <td>146</td>\n",
              "      <td>146</td>\n",
              "      <td>146</td>\n",
              "      <td>146</td>\n",
              "      <td>146</td>\n",
              "      <td>146</td>\n",
              "      <td>146</td>\n",
              "      <td>146</td>\n",
              "      <td>146</td>\n",
              "      <td>146</td>\n",
              "    </tr>\n",
              "    <tr>\n",
              "      <th>unique</th>\n",
              "      <td>95</td>\n",
              "      <td>87</td>\n",
              "      <td>40</td>\n",
              "      <td>126</td>\n",
              "      <td>5</td>\n",
              "      <td>42</td>\n",
              "      <td>112</td>\n",
              "      <td>19</td>\n",
              "      <td>45</td>\n",
              "      <td>125</td>\n",
              "      <td>95</td>\n",
              "      <td>58</td>\n",
              "      <td>102</td>\n",
              "      <td>65</td>\n",
              "      <td>93</td>\n",
              "      <td>42</td>\n",
              "      <td>2</td>\n",
              "      <td>53</td>\n",
              "      <td>84</td>\n",
              "      <td>98</td>\n",
              "      <td>18</td>\n",
              "    </tr>\n",
              "    <tr>\n",
              "      <th>top</th>\n",
              "      <td>NaN</td>\n",
              "      <td>NaN</td>\n",
              "      <td>NaN</td>\n",
              "      <td>NaN</td>\n",
              "      <td>NaN</td>\n",
              "      <td>NaN</td>\n",
              "      <td>NaN</td>\n",
              "      <td>NaN</td>\n",
              "      <td>NaN</td>\n",
              "      <td>NaN</td>\n",
              "      <td>NaN</td>\n",
              "      <td>NaN</td>\n",
              "      <td>NaN</td>\n",
              "      <td>NaN</td>\n",
              "      <td>NaN</td>\n",
              "      <td>NaN</td>\n",
              "      <td>False</td>\n",
              "      <td>NaN</td>\n",
              "      <td>NaN</td>\n",
              "      <td>NaN</td>\n",
              "      <td>NaN</td>\n",
              "    </tr>\n",
              "    <tr>\n",
              "      <th>freq</th>\n",
              "      <td>51</td>\n",
              "      <td>60</td>\n",
              "      <td>107</td>\n",
              "      <td>21</td>\n",
              "      <td>142</td>\n",
              "      <td>64</td>\n",
              "      <td>35</td>\n",
              "      <td>128</td>\n",
              "      <td>97</td>\n",
              "      <td>20</td>\n",
              "      <td>51</td>\n",
              "      <td>60</td>\n",
              "      <td>44</td>\n",
              "      <td>60</td>\n",
              "      <td>53</td>\n",
              "      <td>60</td>\n",
              "      <td>128</td>\n",
              "      <td>80</td>\n",
              "      <td>60</td>\n",
              "      <td>36</td>\n",
              "      <td>129</td>\n",
              "    </tr>\n",
              "  </tbody>\n",
              "</table>\n",
              "</div>"
            ],
            "text/plain": [
              "       salary to_messages  ... restricted_stock director_fees\n",
              "count     146         146  ...              146           146\n",
              "unique     95          87  ...               98            18\n",
              "top       NaN         NaN  ...              NaN           NaN\n",
              "freq       51          60  ...               36           129\n",
              "\n",
              "[4 rows x 21 columns]"
            ]
          },
          "metadata": {
            "tags": []
          },
          "execution_count": 30
        }
      ]
    },
    {
      "cell_type": "markdown",
      "metadata": {
        "id": "hsfybSwSHmyJ",
        "colab_type": "text"
      },
      "source": [
        "##How many folks in this dataset have a quantified salary? What about a known email address?\n",
        "\n"
      ]
    },
    {
      "cell_type": "code",
      "metadata": {
        "id": "K6cVpcmsHl-Z",
        "colab_type": "code",
        "colab": {
          "base_uri": "https://localhost:8080/",
          "height": 34
        },
        "outputId": "a7a968d3-256f-4806-dc3c-fb578454d9ef"
      },
      "source": [
        "print( \"How many folks in this dataset have a quantified salary? What about a known email address? {}, {}\".format(95, (enron_data.shape[0]) - ((enron_data.email_address == 'NaN').sum())))"
      ],
      "execution_count": 65,
      "outputs": [
        {
          "output_type": "stream",
          "text": [
            "How many folks in this dataset have a quantified salary? What about a known email address? 95, 111\n"
          ],
          "name": "stdout"
        }
      ]
    },
    {
      "cell_type": "code",
      "metadata": {
        "id": "uOpQxMDeJhfn",
        "colab_type": "code",
        "colab": {}
      },
      "source": [
        "!python /content/ud120-projects/tools/feature_format.py"
      ],
      "execution_count": 88,
      "outputs": []
    },
    {
      "cell_type": "code",
      "metadata": {
        "id": "08kyS8ITQteN",
        "colab_type": "code",
        "colab": {}
      },
      "source": [
        "feature_list = [\"poi\", \"salary\", \"bonus\"] \n",
        "data_array = featureFormat(data_dict, feature_list )\n",
        "label, features = targetFeatureSplit(data_array)"
      ],
      "execution_count": 89,
      "outputs": []
    }
  ]
}